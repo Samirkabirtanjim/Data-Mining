{
 "cells": [
  {
   "cell_type": "code",
   "execution_count": 1,
   "id": "69aba2ed",
   "metadata": {
    "_cell_guid": "b1076dfc-b9ad-4769-8c92-a6c4dae69d19",
    "_uuid": "8f2839f25d086af736a60e9eeb907d3b93b6e0e5",
    "execution": {
     "iopub.execute_input": "2024-09-29T16:30:35.697438Z",
     "iopub.status.busy": "2024-09-29T16:30:35.696924Z",
     "iopub.status.idle": "2024-09-29T16:30:36.723638Z",
     "shell.execute_reply": "2024-09-29T16:30:36.722201Z"
    },
    "papermill": {
     "duration": 1.041146,
     "end_time": "2024-09-29T16:30:36.726522",
     "exception": false,
     "start_time": "2024-09-29T16:30:35.685376",
     "status": "completed"
    },
    "tags": []
   },
   "outputs": [
    {
     "data": {
      "text/html": [
       "<div>\n",
       "<style scoped>\n",
       "    .dataframe tbody tr th:only-of-type {\n",
       "        vertical-align: middle;\n",
       "    }\n",
       "\n",
       "    .dataframe tbody tr th {\n",
       "        vertical-align: top;\n",
       "    }\n",
       "\n",
       "    .dataframe thead th {\n",
       "        text-align: right;\n",
       "    }\n",
       "</style>\n",
       "<table border=\"1\" class=\"dataframe\">\n",
       "  <thead>\n",
       "    <tr style=\"text-align: right;\">\n",
       "      <th></th>\n",
       "      <th>id</th>\n",
       "      <th>gender</th>\n",
       "      <th>age</th>\n",
       "      <th>hypertension</th>\n",
       "      <th>heart_disease</th>\n",
       "      <th>ever_married</th>\n",
       "      <th>work_type</th>\n",
       "      <th>Residence_type</th>\n",
       "      <th>avg_glucose_level</th>\n",
       "      <th>bmi</th>\n",
       "      <th>smoking_status</th>\n",
       "      <th>stroke</th>\n",
       "    </tr>\n",
       "  </thead>\n",
       "  <tbody>\n",
       "    <tr>\n",
       "      <th>0</th>\n",
       "      <td>9046</td>\n",
       "      <td>Male</td>\n",
       "      <td>67.0</td>\n",
       "      <td>0</td>\n",
       "      <td>1</td>\n",
       "      <td>Yes</td>\n",
       "      <td>Private</td>\n",
       "      <td>Urban</td>\n",
       "      <td>228.69</td>\n",
       "      <td>36.6</td>\n",
       "      <td>formerly smoked</td>\n",
       "      <td>1</td>\n",
       "    </tr>\n",
       "    <tr>\n",
       "      <th>1</th>\n",
       "      <td>51676</td>\n",
       "      <td>Female</td>\n",
       "      <td>61.0</td>\n",
       "      <td>0</td>\n",
       "      <td>0</td>\n",
       "      <td>Yes</td>\n",
       "      <td>Self-employed</td>\n",
       "      <td>Rural</td>\n",
       "      <td>202.21</td>\n",
       "      <td>NaN</td>\n",
       "      <td>never smoked</td>\n",
       "      <td>1</td>\n",
       "    </tr>\n",
       "    <tr>\n",
       "      <th>2</th>\n",
       "      <td>31112</td>\n",
       "      <td>Male</td>\n",
       "      <td>80.0</td>\n",
       "      <td>0</td>\n",
       "      <td>1</td>\n",
       "      <td>Yes</td>\n",
       "      <td>Private</td>\n",
       "      <td>Rural</td>\n",
       "      <td>105.92</td>\n",
       "      <td>32.5</td>\n",
       "      <td>never smoked</td>\n",
       "      <td>1</td>\n",
       "    </tr>\n",
       "    <tr>\n",
       "      <th>3</th>\n",
       "      <td>60182</td>\n",
       "      <td>Female</td>\n",
       "      <td>49.0</td>\n",
       "      <td>0</td>\n",
       "      <td>0</td>\n",
       "      <td>Yes</td>\n",
       "      <td>Private</td>\n",
       "      <td>Urban</td>\n",
       "      <td>171.23</td>\n",
       "      <td>34.4</td>\n",
       "      <td>smokes</td>\n",
       "      <td>1</td>\n",
       "    </tr>\n",
       "    <tr>\n",
       "      <th>4</th>\n",
       "      <td>1665</td>\n",
       "      <td>Female</td>\n",
       "      <td>79.0</td>\n",
       "      <td>1</td>\n",
       "      <td>0</td>\n",
       "      <td>Yes</td>\n",
       "      <td>Self-employed</td>\n",
       "      <td>Rural</td>\n",
       "      <td>174.12</td>\n",
       "      <td>24.0</td>\n",
       "      <td>never smoked</td>\n",
       "      <td>1</td>\n",
       "    </tr>\n",
       "  </tbody>\n",
       "</table>\n",
       "</div>"
      ],
      "text/plain": [
       "      id  gender   age  hypertension  heart_disease ever_married  \\\n",
       "0   9046    Male  67.0             0              1          Yes   \n",
       "1  51676  Female  61.0             0              0          Yes   \n",
       "2  31112    Male  80.0             0              1          Yes   \n",
       "3  60182  Female  49.0             0              0          Yes   \n",
       "4   1665  Female  79.0             1              0          Yes   \n",
       "\n",
       "       work_type Residence_type  avg_glucose_level   bmi   smoking_status  \\\n",
       "0        Private          Urban             228.69  36.6  formerly smoked   \n",
       "1  Self-employed          Rural             202.21   NaN     never smoked   \n",
       "2        Private          Rural             105.92  32.5     never smoked   \n",
       "3        Private          Urban             171.23  34.4           smokes   \n",
       "4  Self-employed          Rural             174.12  24.0     never smoked   \n",
       "\n",
       "   stroke  \n",
       "0       1  \n",
       "1       1  \n",
       "2       1  \n",
       "3       1  \n",
       "4       1  "
      ]
     },
     "execution_count": 1,
     "metadata": {},
     "output_type": "execute_result"
    }
   ],
   "source": [
    "import pandas as pd\n",
    "import numpy as np\n",
    "\n",
    "df = pd.read_csv(\"/kaggle/input/stroke-prediction-dataset/healthcare-dataset-stroke-data.csv\")\n",
    "df.head()"
   ]
  },
  {
   "cell_type": "code",
   "execution_count": 2,
   "id": "92f1f0de",
   "metadata": {
    "execution": {
     "iopub.execute_input": "2024-09-29T16:30:36.745433Z",
     "iopub.status.busy": "2024-09-29T16:30:36.743997Z",
     "iopub.status.idle": "2024-09-29T16:30:36.752021Z",
     "shell.execute_reply": "2024-09-29T16:30:36.750870Z"
    },
    "papermill": {
     "duration": 0.019564,
     "end_time": "2024-09-29T16:30:36.754641",
     "exception": false,
     "start_time": "2024-09-29T16:30:36.735077",
     "status": "completed"
    },
    "tags": []
   },
   "outputs": [
    {
     "data": {
      "text/plain": [
       "(5110, 12)"
      ]
     },
     "execution_count": 2,
     "metadata": {},
     "output_type": "execute_result"
    }
   ],
   "source": [
    "df.shape"
   ]
  },
  {
   "cell_type": "code",
   "execution_count": 3,
   "id": "c9fa9c81",
   "metadata": {
    "execution": {
     "iopub.execute_input": "2024-09-29T16:30:36.771597Z",
     "iopub.status.busy": "2024-09-29T16:30:36.771194Z",
     "iopub.status.idle": "2024-09-29T16:30:36.784383Z",
     "shell.execute_reply": "2024-09-29T16:30:36.783239Z"
    },
    "papermill": {
     "duration": 0.024562,
     "end_time": "2024-09-29T16:30:36.786873",
     "exception": false,
     "start_time": "2024-09-29T16:30:36.762311",
     "status": "completed"
    },
    "tags": []
   },
   "outputs": [
    {
     "data": {
      "text/plain": [
       "id                     0\n",
       "gender                 0\n",
       "age                    0\n",
       "hypertension           0\n",
       "heart_disease          0\n",
       "ever_married           0\n",
       "work_type              0\n",
       "Residence_type         0\n",
       "avg_glucose_level      0\n",
       "bmi                  201\n",
       "smoking_status         0\n",
       "stroke                 0\n",
       "dtype: int64"
      ]
     },
     "execution_count": 3,
     "metadata": {},
     "output_type": "execute_result"
    }
   ],
   "source": [
    "df.isnull().sum()"
   ]
  },
  {
   "cell_type": "markdown",
   "id": "807062ad",
   "metadata": {
    "papermill": {
     "duration": 0.007757,
     "end_time": "2024-09-29T16:30:36.802459",
     "exception": false,
     "start_time": "2024-09-29T16:30:36.794702",
     "status": "completed"
    },
    "tags": []
   },
   "source": [
    "**Filling with the Mean**"
   ]
  },
  {
   "cell_type": "code",
   "execution_count": 4,
   "id": "34d31c1d",
   "metadata": {
    "execution": {
     "iopub.execute_input": "2024-09-29T16:30:36.820269Z",
     "iopub.status.busy": "2024-09-29T16:30:36.819840Z",
     "iopub.status.idle": "2024-09-29T16:30:36.827577Z",
     "shell.execute_reply": "2024-09-29T16:30:36.826365Z"
    },
    "papermill": {
     "duration": 0.01941,
     "end_time": "2024-09-29T16:30:36.830363",
     "exception": false,
     "start_time": "2024-09-29T16:30:36.810953",
     "status": "completed"
    },
    "tags": []
   },
   "outputs": [],
   "source": [
    "df_mean = df.copy()\n",
    "df_mean[\"bmi\"] = df_mean[\"bmi\"].fillna(df_mean[\"bmi\"].mean())  "
   ]
  },
  {
   "cell_type": "code",
   "execution_count": 5,
   "id": "e817e59b",
   "metadata": {
    "execution": {
     "iopub.execute_input": "2024-09-29T16:30:36.847936Z",
     "iopub.status.busy": "2024-09-29T16:30:36.847512Z",
     "iopub.status.idle": "2024-09-29T16:30:36.861219Z",
     "shell.execute_reply": "2024-09-29T16:30:36.859955Z"
    },
    "papermill": {
     "duration": 0.02602,
     "end_time": "2024-09-29T16:30:36.864126",
     "exception": false,
     "start_time": "2024-09-29T16:30:36.838106",
     "status": "completed"
    },
    "tags": []
   },
   "outputs": [
    {
     "data": {
      "text/plain": [
       "id                   0\n",
       "gender               0\n",
       "age                  0\n",
       "hypertension         0\n",
       "heart_disease        0\n",
       "ever_married         0\n",
       "work_type            0\n",
       "Residence_type       0\n",
       "avg_glucose_level    0\n",
       "bmi                  0\n",
       "smoking_status       0\n",
       "stroke               0\n",
       "dtype: int64"
      ]
     },
     "execution_count": 5,
     "metadata": {},
     "output_type": "execute_result"
    }
   ],
   "source": [
    "df_mean.isnull().sum()"
   ]
  },
  {
   "cell_type": "markdown",
   "id": "d01ff3a6",
   "metadata": {
    "papermill": {
     "duration": 0.00835,
     "end_time": "2024-09-29T16:30:36.880947",
     "exception": false,
     "start_time": "2024-09-29T16:30:36.872597",
     "status": "completed"
    },
    "tags": []
   },
   "source": [
    "**Filling with the Median**"
   ]
  },
  {
   "cell_type": "code",
   "execution_count": 6,
   "id": "c610e285",
   "metadata": {
    "execution": {
     "iopub.execute_input": "2024-09-29T16:30:36.901256Z",
     "iopub.status.busy": "2024-09-29T16:30:36.900772Z",
     "iopub.status.idle": "2024-09-29T16:30:36.907763Z",
     "shell.execute_reply": "2024-09-29T16:30:36.906675Z"
    },
    "papermill": {
     "duration": 0.019961,
     "end_time": "2024-09-29T16:30:36.910440",
     "exception": false,
     "start_time": "2024-09-29T16:30:36.890479",
     "status": "completed"
    },
    "tags": []
   },
   "outputs": [],
   "source": [
    "df_median = df.copy()\n",
    "df_median[\"bmi\"] = df_median[\"bmi\"].fillna(df_median[\"bmi\"].sum())"
   ]
  },
  {
   "cell_type": "code",
   "execution_count": 7,
   "id": "20cf711b",
   "metadata": {
    "execution": {
     "iopub.execute_input": "2024-09-29T16:30:36.928913Z",
     "iopub.status.busy": "2024-09-29T16:30:36.928497Z",
     "iopub.status.idle": "2024-09-29T16:30:36.939801Z",
     "shell.execute_reply": "2024-09-29T16:30:36.938562Z"
    },
    "papermill": {
     "duration": 0.024002,
     "end_time": "2024-09-29T16:30:36.942236",
     "exception": false,
     "start_time": "2024-09-29T16:30:36.918234",
     "status": "completed"
    },
    "tags": []
   },
   "outputs": [
    {
     "data": {
      "text/plain": [
       "id                   0\n",
       "gender               0\n",
       "age                  0\n",
       "hypertension         0\n",
       "heart_disease        0\n",
       "ever_married         0\n",
       "work_type            0\n",
       "Residence_type       0\n",
       "avg_glucose_level    0\n",
       "bmi                  0\n",
       "smoking_status       0\n",
       "stroke               0\n",
       "dtype: int64"
      ]
     },
     "execution_count": 7,
     "metadata": {},
     "output_type": "execute_result"
    }
   ],
   "source": [
    "df_median.isnull().sum()"
   ]
  },
  {
   "cell_type": "markdown",
   "id": "f2540751",
   "metadata": {
    "papermill": {
     "duration": 0.007997,
     "end_time": "2024-09-29T16:30:36.958126",
     "exception": false,
     "start_time": "2024-09-29T16:30:36.950129",
     "status": "completed"
    },
    "tags": []
   },
   "source": [
    "**Filling with a Specific Value**"
   ]
  },
  {
   "cell_type": "code",
   "execution_count": 8,
   "id": "b5899548",
   "metadata": {
    "execution": {
     "iopub.execute_input": "2024-09-29T16:30:36.976389Z",
     "iopub.status.busy": "2024-09-29T16:30:36.975750Z",
     "iopub.status.idle": "2024-09-29T16:30:36.983448Z",
     "shell.execute_reply": "2024-09-29T16:30:36.982267Z"
    },
    "papermill": {
     "duration": 0.019945,
     "end_time": "2024-09-29T16:30:36.985984",
     "exception": false,
     "start_time": "2024-09-29T16:30:36.966039",
     "status": "completed"
    },
    "tags": []
   },
   "outputs": [],
   "source": [
    "df_specific = df.copy() \n",
    "df_specific['bmi'] = df_specific['bmi'].fillna(0) "
   ]
  },
  {
   "cell_type": "code",
   "execution_count": 9,
   "id": "23c5ef47",
   "metadata": {
    "execution": {
     "iopub.execute_input": "2024-09-29T16:30:37.003439Z",
     "iopub.status.busy": "2024-09-29T16:30:37.003031Z",
     "iopub.status.idle": "2024-09-29T16:30:37.014225Z",
     "shell.execute_reply": "2024-09-29T16:30:37.012723Z"
    },
    "papermill": {
     "duration": 0.023072,
     "end_time": "2024-09-29T16:30:37.016943",
     "exception": false,
     "start_time": "2024-09-29T16:30:36.993871",
     "status": "completed"
    },
    "tags": []
   },
   "outputs": [
    {
     "data": {
      "text/plain": [
       "id                   0\n",
       "gender               0\n",
       "age                  0\n",
       "hypertension         0\n",
       "heart_disease        0\n",
       "ever_married         0\n",
       "work_type            0\n",
       "Residence_type       0\n",
       "avg_glucose_level    0\n",
       "bmi                  0\n",
       "smoking_status       0\n",
       "stroke               0\n",
       "dtype: int64"
      ]
     },
     "execution_count": 9,
     "metadata": {},
     "output_type": "execute_result"
    }
   ],
   "source": [
    "df_specific.isnull().sum()"
   ]
  },
  {
   "cell_type": "markdown",
   "id": "b249ebb3",
   "metadata": {
    "papermill": {
     "duration": 0.007677,
     "end_time": "2024-09-29T16:30:37.032749",
     "exception": false,
     "start_time": "2024-09-29T16:30:37.025072",
     "status": "completed"
    },
    "tags": []
   },
   "source": [
    "**Real Dataset**"
   ]
  },
  {
   "cell_type": "code",
   "execution_count": 10,
   "id": "65a19921",
   "metadata": {
    "execution": {
     "iopub.execute_input": "2024-09-29T16:30:37.051922Z",
     "iopub.status.busy": "2024-09-29T16:30:37.050782Z",
     "iopub.status.idle": "2024-09-29T16:30:37.062270Z",
     "shell.execute_reply": "2024-09-29T16:30:37.060724Z"
    },
    "papermill": {
     "duration": 0.024199,
     "end_time": "2024-09-29T16:30:37.064937",
     "exception": false,
     "start_time": "2024-09-29T16:30:37.040738",
     "status": "completed"
    },
    "tags": []
   },
   "outputs": [
    {
     "data": {
      "text/plain": [
       "id                     0\n",
       "gender                 0\n",
       "age                    0\n",
       "hypertension           0\n",
       "heart_disease          0\n",
       "ever_married           0\n",
       "work_type              0\n",
       "Residence_type         0\n",
       "avg_glucose_level      0\n",
       "bmi                  201\n",
       "smoking_status         0\n",
       "stroke                 0\n",
       "dtype: int64"
      ]
     },
     "execution_count": 10,
     "metadata": {},
     "output_type": "execute_result"
    }
   ],
   "source": [
    "df.isnull().sum()"
   ]
  },
  {
   "cell_type": "markdown",
   "id": "d8ac3179",
   "metadata": {
    "papermill": {
     "duration": 0.008297,
     "end_time": "2024-09-29T16:30:37.082128",
     "exception": false,
     "start_time": "2024-09-29T16:30:37.073831",
     "status": "completed"
    },
    "tags": []
   },
   "source": [
    "**Deleting the columns with missing data**"
   ]
  },
  {
   "cell_type": "code",
   "execution_count": 11,
   "id": "1c69d6c9",
   "metadata": {
    "execution": {
     "iopub.execute_input": "2024-09-29T16:30:37.100661Z",
     "iopub.status.busy": "2024-09-29T16:30:37.100259Z",
     "iopub.status.idle": "2024-09-29T16:30:37.106223Z",
     "shell.execute_reply": "2024-09-29T16:30:37.104882Z"
    },
    "papermill": {
     "duration": 0.018421,
     "end_time": "2024-09-29T16:30:37.108632",
     "exception": false,
     "start_time": "2024-09-29T16:30:37.090211",
     "status": "completed"
    },
    "tags": []
   },
   "outputs": [],
   "source": [
    "data = df.copy()"
   ]
  },
  {
   "cell_type": "code",
   "execution_count": 12,
   "id": "3a0dae43",
   "metadata": {
    "execution": {
     "iopub.execute_input": "2024-09-29T16:30:37.127847Z",
     "iopub.status.busy": "2024-09-29T16:30:37.126712Z",
     "iopub.status.idle": "2024-09-29T16:30:37.138227Z",
     "shell.execute_reply": "2024-09-29T16:30:37.136971Z"
    },
    "papermill": {
     "duration": 0.023864,
     "end_time": "2024-09-29T16:30:37.140702",
     "exception": false,
     "start_time": "2024-09-29T16:30:37.116838",
     "status": "completed"
    },
    "tags": []
   },
   "outputs": [
    {
     "data": {
      "text/plain": [
       "id                     0\n",
       "gender                 0\n",
       "age                    0\n",
       "hypertension           0\n",
       "heart_disease          0\n",
       "ever_married           0\n",
       "work_type              0\n",
       "Residence_type         0\n",
       "avg_glucose_level      0\n",
       "bmi                  201\n",
       "smoking_status         0\n",
       "stroke                 0\n",
       "dtype: int64"
      ]
     },
     "execution_count": 12,
     "metadata": {},
     "output_type": "execute_result"
    }
   ],
   "source": [
    "data.isnull().sum()"
   ]
  },
  {
   "cell_type": "code",
   "execution_count": 13,
   "id": "de4884e0",
   "metadata": {
    "execution": {
     "iopub.execute_input": "2024-09-29T16:30:37.159236Z",
     "iopub.status.busy": "2024-09-29T16:30:37.158810Z",
     "iopub.status.idle": "2024-09-29T16:30:37.171173Z",
     "shell.execute_reply": "2024-09-29T16:30:37.170170Z"
    },
    "papermill": {
     "duration": 0.024627,
     "end_time": "2024-09-29T16:30:37.173691",
     "exception": false,
     "start_time": "2024-09-29T16:30:37.149064",
     "status": "completed"
    },
    "tags": []
   },
   "outputs": [],
   "source": [
    "data.drop(\"bmi\",axis=1,inplace=True)"
   ]
  },
  {
   "cell_type": "code",
   "execution_count": 14,
   "id": "f20ef757",
   "metadata": {
    "execution": {
     "iopub.execute_input": "2024-09-29T16:30:37.191914Z",
     "iopub.status.busy": "2024-09-29T16:30:37.191474Z",
     "iopub.status.idle": "2024-09-29T16:30:37.209429Z",
     "shell.execute_reply": "2024-09-29T16:30:37.207897Z"
    },
    "papermill": {
     "duration": 0.030049,
     "end_time": "2024-09-29T16:30:37.211945",
     "exception": false,
     "start_time": "2024-09-29T16:30:37.181896",
     "status": "completed"
    },
    "tags": []
   },
   "outputs": [
    {
     "data": {
      "text/html": [
       "<div>\n",
       "<style scoped>\n",
       "    .dataframe tbody tr th:only-of-type {\n",
       "        vertical-align: middle;\n",
       "    }\n",
       "\n",
       "    .dataframe tbody tr th {\n",
       "        vertical-align: top;\n",
       "    }\n",
       "\n",
       "    .dataframe thead th {\n",
       "        text-align: right;\n",
       "    }\n",
       "</style>\n",
       "<table border=\"1\" class=\"dataframe\">\n",
       "  <thead>\n",
       "    <tr style=\"text-align: right;\">\n",
       "      <th></th>\n",
       "      <th>id</th>\n",
       "      <th>gender</th>\n",
       "      <th>age</th>\n",
       "      <th>hypertension</th>\n",
       "      <th>heart_disease</th>\n",
       "      <th>ever_married</th>\n",
       "      <th>work_type</th>\n",
       "      <th>Residence_type</th>\n",
       "      <th>avg_glucose_level</th>\n",
       "      <th>smoking_status</th>\n",
       "      <th>stroke</th>\n",
       "    </tr>\n",
       "  </thead>\n",
       "  <tbody>\n",
       "    <tr>\n",
       "      <th>0</th>\n",
       "      <td>9046</td>\n",
       "      <td>Male</td>\n",
       "      <td>67.0</td>\n",
       "      <td>0</td>\n",
       "      <td>1</td>\n",
       "      <td>Yes</td>\n",
       "      <td>Private</td>\n",
       "      <td>Urban</td>\n",
       "      <td>228.69</td>\n",
       "      <td>formerly smoked</td>\n",
       "      <td>1</td>\n",
       "    </tr>\n",
       "    <tr>\n",
       "      <th>1</th>\n",
       "      <td>51676</td>\n",
       "      <td>Female</td>\n",
       "      <td>61.0</td>\n",
       "      <td>0</td>\n",
       "      <td>0</td>\n",
       "      <td>Yes</td>\n",
       "      <td>Self-employed</td>\n",
       "      <td>Rural</td>\n",
       "      <td>202.21</td>\n",
       "      <td>never smoked</td>\n",
       "      <td>1</td>\n",
       "    </tr>\n",
       "    <tr>\n",
       "      <th>2</th>\n",
       "      <td>31112</td>\n",
       "      <td>Male</td>\n",
       "      <td>80.0</td>\n",
       "      <td>0</td>\n",
       "      <td>1</td>\n",
       "      <td>Yes</td>\n",
       "      <td>Private</td>\n",
       "      <td>Rural</td>\n",
       "      <td>105.92</td>\n",
       "      <td>never smoked</td>\n",
       "      <td>1</td>\n",
       "    </tr>\n",
       "    <tr>\n",
       "      <th>3</th>\n",
       "      <td>60182</td>\n",
       "      <td>Female</td>\n",
       "      <td>49.0</td>\n",
       "      <td>0</td>\n",
       "      <td>0</td>\n",
       "      <td>Yes</td>\n",
       "      <td>Private</td>\n",
       "      <td>Urban</td>\n",
       "      <td>171.23</td>\n",
       "      <td>smokes</td>\n",
       "      <td>1</td>\n",
       "    </tr>\n",
       "    <tr>\n",
       "      <th>4</th>\n",
       "      <td>1665</td>\n",
       "      <td>Female</td>\n",
       "      <td>79.0</td>\n",
       "      <td>1</td>\n",
       "      <td>0</td>\n",
       "      <td>Yes</td>\n",
       "      <td>Self-employed</td>\n",
       "      <td>Rural</td>\n",
       "      <td>174.12</td>\n",
       "      <td>never smoked</td>\n",
       "      <td>1</td>\n",
       "    </tr>\n",
       "  </tbody>\n",
       "</table>\n",
       "</div>"
      ],
      "text/plain": [
       "      id  gender   age  hypertension  heart_disease ever_married  \\\n",
       "0   9046    Male  67.0             0              1          Yes   \n",
       "1  51676  Female  61.0             0              0          Yes   \n",
       "2  31112    Male  80.0             0              1          Yes   \n",
       "3  60182  Female  49.0             0              0          Yes   \n",
       "4   1665  Female  79.0             1              0          Yes   \n",
       "\n",
       "       work_type Residence_type  avg_glucose_level   smoking_status  stroke  \n",
       "0        Private          Urban             228.69  formerly smoked       1  \n",
       "1  Self-employed          Rural             202.21     never smoked       1  \n",
       "2        Private          Rural             105.92     never smoked       1  \n",
       "3        Private          Urban             171.23           smokes       1  \n",
       "4  Self-employed          Rural             174.12     never smoked       1  "
      ]
     },
     "execution_count": 14,
     "metadata": {},
     "output_type": "execute_result"
    }
   ],
   "source": [
    "data.head()"
   ]
  },
  {
   "cell_type": "markdown",
   "id": "06b5549b",
   "metadata": {
    "papermill": {
     "duration": 0.008323,
     "end_time": "2024-09-29T16:30:37.229299",
     "exception": false,
     "start_time": "2024-09-29T16:30:37.220976",
     "status": "completed"
    },
    "tags": []
   },
   "source": [
    "**2. Age Categorization**"
   ]
  },
  {
   "cell_type": "code",
   "execution_count": 15,
   "id": "4961f7ae",
   "metadata": {
    "execution": {
     "iopub.execute_input": "2024-09-29T16:30:37.248541Z",
     "iopub.status.busy": "2024-09-29T16:30:37.248061Z",
     "iopub.status.idle": "2024-09-29T16:30:37.259751Z",
     "shell.execute_reply": "2024-09-29T16:30:37.258598Z"
    },
    "papermill": {
     "duration": 0.024787,
     "end_time": "2024-09-29T16:30:37.262465",
     "exception": false,
     "start_time": "2024-09-29T16:30:37.237678",
     "status": "completed"
    },
    "tags": []
   },
   "outputs": [
    {
     "data": {
      "text/plain": [
       "0       67.0\n",
       "1       61.0\n",
       "2       80.0\n",
       "3       49.0\n",
       "4       79.0\n",
       "        ... \n",
       "5105    80.0\n",
       "5106    81.0\n",
       "5107    35.0\n",
       "5108    51.0\n",
       "5109    44.0\n",
       "Name: age, Length: 5110, dtype: float64"
      ]
     },
     "execution_count": 15,
     "metadata": {},
     "output_type": "execute_result"
    }
   ],
   "source": [
    "data[\"age\"]"
   ]
  },
  {
   "cell_type": "code",
   "execution_count": 16,
   "id": "985158e8",
   "metadata": {
    "execution": {
     "iopub.execute_input": "2024-09-29T16:30:37.281465Z",
     "iopub.status.busy": "2024-09-29T16:30:37.281013Z",
     "iopub.status.idle": "2024-09-29T16:30:37.301282Z",
     "shell.execute_reply": "2024-09-29T16:30:37.299989Z"
    },
    "papermill": {
     "duration": 0.032602,
     "end_time": "2024-09-29T16:30:37.303783",
     "exception": false,
     "start_time": "2024-09-29T16:30:37.271181",
     "status": "completed"
    },
    "tags": []
   },
   "outputs": [
    {
     "data": {
      "text/plain": [
       "0       Elderly\n",
       "1         Adult\n",
       "2       Elderly\n",
       "3         Adult\n",
       "4       Elderly\n",
       "         ...   \n",
       "5105    Elderly\n",
       "5106    Elderly\n",
       "5107      Adult\n",
       "5108      Adult\n",
       "5109      Adult\n",
       "Name: Label, Length: 5110, dtype: category\n",
       "Categories (4, object): ['Baby' < 'Child' < 'Adult' < 'Elderly']"
      ]
     },
     "execution_count": 16,
     "metadata": {},
     "output_type": "execute_result"
    }
   ],
   "source": [
    "data[\"Label\"] = pd.cut(x=data[\"age\"], bins=[0, 3, 17, 63, 99],\n",
    "                        labels=[\"Baby\", \"Child\", \"Adult\", \"Elderly\"])\n",
    "data[\"Label\"]"
   ]
  },
  {
   "cell_type": "code",
   "execution_count": 17,
   "id": "f6c8ed3c",
   "metadata": {
    "execution": {
     "iopub.execute_input": "2024-09-29T16:30:37.323137Z",
     "iopub.status.busy": "2024-09-29T16:30:37.322695Z",
     "iopub.status.idle": "2024-09-29T16:30:37.334506Z",
     "shell.execute_reply": "2024-09-29T16:30:37.333222Z"
    },
    "papermill": {
     "duration": 0.024589,
     "end_time": "2024-09-29T16:30:37.337109",
     "exception": false,
     "start_time": "2024-09-29T16:30:37.312520",
     "status": "completed"
    },
    "tags": []
   },
   "outputs": [
    {
     "data": {
      "text/plain": [
       "Label\n",
       "Adult      3174\n",
       "Elderly    1080\n",
       "Child       635\n",
       "Baby        221\n",
       "Name: count, dtype: int64"
      ]
     },
     "execution_count": 17,
     "metadata": {},
     "output_type": "execute_result"
    }
   ],
   "source": [
    "data[\"Label\"].value_counts()"
   ]
  },
  {
   "cell_type": "markdown",
   "id": "d1db1435",
   "metadata": {
    "papermill": {
     "duration": 0.009272,
     "end_time": "2024-09-29T16:30:37.355554",
     "exception": false,
     "start_time": "2024-09-29T16:30:37.346282",
     "status": "completed"
    },
    "tags": []
   },
   "source": [
    "**LabelEncoding**"
   ]
  },
  {
   "cell_type": "code",
   "execution_count": 18,
   "id": "f4fcdca3",
   "metadata": {
    "execution": {
     "iopub.execute_input": "2024-09-29T16:30:37.379262Z",
     "iopub.status.busy": "2024-09-29T16:30:37.378793Z",
     "iopub.status.idle": "2024-09-29T16:30:37.397737Z",
     "shell.execute_reply": "2024-09-29T16:30:37.396378Z"
    },
    "papermill": {
     "duration": 0.033329,
     "end_time": "2024-09-29T16:30:37.400494",
     "exception": false,
     "start_time": "2024-09-29T16:30:37.367165",
     "status": "completed"
    },
    "tags": []
   },
   "outputs": [
    {
     "data": {
      "text/html": [
       "<div>\n",
       "<style scoped>\n",
       "    .dataframe tbody tr th:only-of-type {\n",
       "        vertical-align: middle;\n",
       "    }\n",
       "\n",
       "    .dataframe tbody tr th {\n",
       "        vertical-align: top;\n",
       "    }\n",
       "\n",
       "    .dataframe thead th {\n",
       "        text-align: right;\n",
       "    }\n",
       "</style>\n",
       "<table border=\"1\" class=\"dataframe\">\n",
       "  <thead>\n",
       "    <tr style=\"text-align: right;\">\n",
       "      <th></th>\n",
       "      <th>id</th>\n",
       "      <th>gender</th>\n",
       "      <th>age</th>\n",
       "      <th>hypertension</th>\n",
       "      <th>heart_disease</th>\n",
       "      <th>ever_married</th>\n",
       "      <th>work_type</th>\n",
       "      <th>Residence_type</th>\n",
       "      <th>avg_glucose_level</th>\n",
       "      <th>bmi</th>\n",
       "      <th>smoking_status</th>\n",
       "      <th>stroke</th>\n",
       "    </tr>\n",
       "  </thead>\n",
       "  <tbody>\n",
       "    <tr>\n",
       "      <th>0</th>\n",
       "      <td>9046</td>\n",
       "      <td>Male</td>\n",
       "      <td>67.0</td>\n",
       "      <td>0</td>\n",
       "      <td>1</td>\n",
       "      <td>Yes</td>\n",
       "      <td>Private</td>\n",
       "      <td>Urban</td>\n",
       "      <td>228.69</td>\n",
       "      <td>36.6</td>\n",
       "      <td>formerly smoked</td>\n",
       "      <td>1</td>\n",
       "    </tr>\n",
       "    <tr>\n",
       "      <th>1</th>\n",
       "      <td>51676</td>\n",
       "      <td>Female</td>\n",
       "      <td>61.0</td>\n",
       "      <td>0</td>\n",
       "      <td>0</td>\n",
       "      <td>Yes</td>\n",
       "      <td>Self-employed</td>\n",
       "      <td>Rural</td>\n",
       "      <td>202.21</td>\n",
       "      <td>NaN</td>\n",
       "      <td>never smoked</td>\n",
       "      <td>1</td>\n",
       "    </tr>\n",
       "    <tr>\n",
       "      <th>2</th>\n",
       "      <td>31112</td>\n",
       "      <td>Male</td>\n",
       "      <td>80.0</td>\n",
       "      <td>0</td>\n",
       "      <td>1</td>\n",
       "      <td>Yes</td>\n",
       "      <td>Private</td>\n",
       "      <td>Rural</td>\n",
       "      <td>105.92</td>\n",
       "      <td>32.5</td>\n",
       "      <td>never smoked</td>\n",
       "      <td>1</td>\n",
       "    </tr>\n",
       "    <tr>\n",
       "      <th>3</th>\n",
       "      <td>60182</td>\n",
       "      <td>Female</td>\n",
       "      <td>49.0</td>\n",
       "      <td>0</td>\n",
       "      <td>0</td>\n",
       "      <td>Yes</td>\n",
       "      <td>Private</td>\n",
       "      <td>Urban</td>\n",
       "      <td>171.23</td>\n",
       "      <td>34.4</td>\n",
       "      <td>smokes</td>\n",
       "      <td>1</td>\n",
       "    </tr>\n",
       "    <tr>\n",
       "      <th>4</th>\n",
       "      <td>1665</td>\n",
       "      <td>Female</td>\n",
       "      <td>79.0</td>\n",
       "      <td>1</td>\n",
       "      <td>0</td>\n",
       "      <td>Yes</td>\n",
       "      <td>Self-employed</td>\n",
       "      <td>Rural</td>\n",
       "      <td>174.12</td>\n",
       "      <td>24.0</td>\n",
       "      <td>never smoked</td>\n",
       "      <td>1</td>\n",
       "    </tr>\n",
       "  </tbody>\n",
       "</table>\n",
       "</div>"
      ],
      "text/plain": [
       "      id  gender   age  hypertension  heart_disease ever_married  \\\n",
       "0   9046    Male  67.0             0              1          Yes   \n",
       "1  51676  Female  61.0             0              0          Yes   \n",
       "2  31112    Male  80.0             0              1          Yes   \n",
       "3  60182  Female  49.0             0              0          Yes   \n",
       "4   1665  Female  79.0             1              0          Yes   \n",
       "\n",
       "       work_type Residence_type  avg_glucose_level   bmi   smoking_status  \\\n",
       "0        Private          Urban             228.69  36.6  formerly smoked   \n",
       "1  Self-employed          Rural             202.21   NaN     never smoked   \n",
       "2        Private          Rural             105.92  32.5     never smoked   \n",
       "3        Private          Urban             171.23  34.4           smokes   \n",
       "4  Self-employed          Rural             174.12  24.0     never smoked   \n",
       "\n",
       "   stroke  \n",
       "0       1  \n",
       "1       1  \n",
       "2       1  \n",
       "3       1  \n",
       "4       1  "
      ]
     },
     "execution_count": 18,
     "metadata": {},
     "output_type": "execute_result"
    }
   ],
   "source": [
    "df.head()"
   ]
  },
  {
   "cell_type": "code",
   "execution_count": 19,
   "id": "cbedc664",
   "metadata": {
    "execution": {
     "iopub.execute_input": "2024-09-29T16:30:37.422468Z",
     "iopub.status.busy": "2024-09-29T16:30:37.421755Z",
     "iopub.status.idle": "2024-09-29T16:30:38.854971Z",
     "shell.execute_reply": "2024-09-29T16:30:38.853331Z"
    },
    "papermill": {
     "duration": 1.44746,
     "end_time": "2024-09-29T16:30:38.857790",
     "exception": false,
     "start_time": "2024-09-29T16:30:37.410330",
     "status": "completed"
    },
    "tags": []
   },
   "outputs": [],
   "source": [
    "from sklearn.preprocessing import LabelEncoder\n",
    "\n",
    "LabelEncoder = LabelEncoder()\n",
    "data_LabelEncoder = df.copy()\n",
    "\n",
    "encode = [\"id\", \"gender\", \"ever_married\", \"work_type\", \"Residence_type\", \"smoking_status\"]\n",
    "\n",
    "for column in encode:\n",
    "    data_LabelEncoder[column] = LabelEncoder.fit_transform(data_LabelEncoder[column])\n"
   ]
  },
  {
   "cell_type": "code",
   "execution_count": 20,
   "id": "e3324ed2",
   "metadata": {
    "execution": {
     "iopub.execute_input": "2024-09-29T16:30:38.880631Z",
     "iopub.status.busy": "2024-09-29T16:30:38.879974Z",
     "iopub.status.idle": "2024-09-29T16:30:38.898364Z",
     "shell.execute_reply": "2024-09-29T16:30:38.897259Z"
    },
    "papermill": {
     "duration": 0.033081,
     "end_time": "2024-09-29T16:30:38.900758",
     "exception": false,
     "start_time": "2024-09-29T16:30:38.867677",
     "status": "completed"
    },
    "tags": []
   },
   "outputs": [
    {
     "data": {
      "text/html": [
       "<div>\n",
       "<style scoped>\n",
       "    .dataframe tbody tr th:only-of-type {\n",
       "        vertical-align: middle;\n",
       "    }\n",
       "\n",
       "    .dataframe tbody tr th {\n",
       "        vertical-align: top;\n",
       "    }\n",
       "\n",
       "    .dataframe thead th {\n",
       "        text-align: right;\n",
       "    }\n",
       "</style>\n",
       "<table border=\"1\" class=\"dataframe\">\n",
       "  <thead>\n",
       "    <tr style=\"text-align: right;\">\n",
       "      <th></th>\n",
       "      <th>id</th>\n",
       "      <th>gender</th>\n",
       "      <th>age</th>\n",
       "      <th>hypertension</th>\n",
       "      <th>heart_disease</th>\n",
       "      <th>ever_married</th>\n",
       "      <th>work_type</th>\n",
       "      <th>Residence_type</th>\n",
       "      <th>avg_glucose_level</th>\n",
       "      <th>bmi</th>\n",
       "      <th>smoking_status</th>\n",
       "      <th>stroke</th>\n",
       "    </tr>\n",
       "  </thead>\n",
       "  <tbody>\n",
       "    <tr>\n",
       "      <th>0</th>\n",
       "      <td>671</td>\n",
       "      <td>1</td>\n",
       "      <td>67.0</td>\n",
       "      <td>0</td>\n",
       "      <td>1</td>\n",
       "      <td>1</td>\n",
       "      <td>2</td>\n",
       "      <td>1</td>\n",
       "      <td>228.69</td>\n",
       "      <td>36.6</td>\n",
       "      <td>1</td>\n",
       "      <td>1</td>\n",
       "    </tr>\n",
       "    <tr>\n",
       "      <th>1</th>\n",
       "      <td>3610</td>\n",
       "      <td>0</td>\n",
       "      <td>61.0</td>\n",
       "      <td>0</td>\n",
       "      <td>0</td>\n",
       "      <td>1</td>\n",
       "      <td>3</td>\n",
       "      <td>0</td>\n",
       "      <td>202.21</td>\n",
       "      <td>NaN</td>\n",
       "      <td>2</td>\n",
       "      <td>1</td>\n",
       "    </tr>\n",
       "    <tr>\n",
       "      <th>2</th>\n",
       "      <td>2151</td>\n",
       "      <td>1</td>\n",
       "      <td>80.0</td>\n",
       "      <td>0</td>\n",
       "      <td>1</td>\n",
       "      <td>1</td>\n",
       "      <td>2</td>\n",
       "      <td>0</td>\n",
       "      <td>105.92</td>\n",
       "      <td>32.5</td>\n",
       "      <td>2</td>\n",
       "      <td>1</td>\n",
       "    </tr>\n",
       "    <tr>\n",
       "      <th>3</th>\n",
       "      <td>4226</td>\n",
       "      <td>0</td>\n",
       "      <td>49.0</td>\n",
       "      <td>0</td>\n",
       "      <td>0</td>\n",
       "      <td>1</td>\n",
       "      <td>2</td>\n",
       "      <td>1</td>\n",
       "      <td>171.23</td>\n",
       "      <td>34.4</td>\n",
       "      <td>3</td>\n",
       "      <td>1</td>\n",
       "    </tr>\n",
       "    <tr>\n",
       "      <th>4</th>\n",
       "      <td>114</td>\n",
       "      <td>0</td>\n",
       "      <td>79.0</td>\n",
       "      <td>1</td>\n",
       "      <td>0</td>\n",
       "      <td>1</td>\n",
       "      <td>3</td>\n",
       "      <td>0</td>\n",
       "      <td>174.12</td>\n",
       "      <td>24.0</td>\n",
       "      <td>2</td>\n",
       "      <td>1</td>\n",
       "    </tr>\n",
       "  </tbody>\n",
       "</table>\n",
       "</div>"
      ],
      "text/plain": [
       "     id  gender   age  hypertension  heart_disease  ever_married  work_type  \\\n",
       "0   671       1  67.0             0              1             1          2   \n",
       "1  3610       0  61.0             0              0             1          3   \n",
       "2  2151       1  80.0             0              1             1          2   \n",
       "3  4226       0  49.0             0              0             1          2   \n",
       "4   114       0  79.0             1              0             1          3   \n",
       "\n",
       "   Residence_type  avg_glucose_level   bmi  smoking_status  stroke  \n",
       "0               1             228.69  36.6               1       1  \n",
       "1               0             202.21   NaN               2       1  \n",
       "2               0             105.92  32.5               2       1  \n",
       "3               1             171.23  34.4               3       1  \n",
       "4               0             174.12  24.0               2       1  "
      ]
     },
     "execution_count": 20,
     "metadata": {},
     "output_type": "execute_result"
    }
   ],
   "source": [
    "data_LabelEncoder.head()"
   ]
  },
  {
   "cell_type": "markdown",
   "id": "429e7552",
   "metadata": {
    "papermill": {
     "duration": 0.008959,
     "end_time": "2024-09-29T16:30:38.919151",
     "exception": false,
     "start_time": "2024-09-29T16:30:38.910192",
     "status": "completed"
    },
    "tags": []
   },
   "source": [
    "**Ordinal Encoding**"
   ]
  },
  {
   "cell_type": "code",
   "execution_count": 21,
   "id": "14b7d3c1",
   "metadata": {
    "execution": {
     "iopub.execute_input": "2024-09-29T16:30:38.939575Z",
     "iopub.status.busy": "2024-09-29T16:30:38.939165Z",
     "iopub.status.idle": "2024-09-29T16:30:38.953453Z",
     "shell.execute_reply": "2024-09-29T16:30:38.952227Z"
    },
    "papermill": {
     "duration": 0.027565,
     "end_time": "2024-09-29T16:30:38.955990",
     "exception": false,
     "start_time": "2024-09-29T16:30:38.928425",
     "status": "completed"
    },
    "tags": []
   },
   "outputs": [
    {
     "name": "stdout",
     "output_type": "stream",
     "text": [
      "0       1.0\n",
      "1       0.0\n",
      "2       0.0\n",
      "3       1.0\n",
      "4       0.0\n",
      "       ... \n",
      "5105    1.0\n",
      "5106    1.0\n",
      "5107    0.0\n",
      "5108    0.0\n",
      "5109    1.0\n",
      "Name: Residence_type_encoded, Length: 5110, dtype: float64\n"
     ]
    }
   ],
   "source": [
    "from sklearn.preprocessing import OrdinalEncoder\n",
    "\n",
    "data_Ordinal = df.copy()\n",
    "\n",
    "Residence_type = data_Ordinal[[\"Residence_type\"]]\n",
    "\n",
    "encoder = OrdinalEncoder()\n",
    "data_Ordinal[\"Residence_type_encoded\"] = encoder.fit_transform(Residence_type)\n",
    "\n",
    "print(data_Ordinal[\"Residence_type_encoded\"])"
   ]
  },
  {
   "cell_type": "markdown",
   "id": "b027f3d8",
   "metadata": {
    "papermill": {
     "duration": 0.009255,
     "end_time": "2024-09-29T16:30:38.974594",
     "exception": false,
     "start_time": "2024-09-29T16:30:38.965339",
     "status": "completed"
    },
    "tags": []
   },
   "source": [
    "**One-hot encoding**"
   ]
  },
  {
   "cell_type": "code",
   "execution_count": 22,
   "id": "ad78a0a6",
   "metadata": {
    "execution": {
     "iopub.execute_input": "2024-09-29T16:30:38.995578Z",
     "iopub.status.busy": "2024-09-29T16:30:38.994759Z",
     "iopub.status.idle": "2024-09-29T16:30:39.010340Z",
     "shell.execute_reply": "2024-09-29T16:30:39.008832Z"
    },
    "papermill": {
     "duration": 0.029294,
     "end_time": "2024-09-29T16:30:39.013260",
     "exception": false,
     "start_time": "2024-09-29T16:30:38.983966",
     "status": "completed"
    },
    "tags": []
   },
   "outputs": [
    {
     "name": "stdout",
     "output_type": "stream",
     "text": [
      "[[0. 1.]\n",
      " [1. 0.]\n",
      " [1. 0.]\n",
      " ...\n",
      " [1. 0.]\n",
      " [1. 0.]\n",
      " [0. 1.]]\n"
     ]
    }
   ],
   "source": [
    "from sklearn.preprocessing import OneHotEncoder\n",
    "\n",
    "residence_data = df[[\"Residence_type\"]]\n",
    "encoder = OneHotEncoder(sparse_output=False)\n",
    "\n",
    "onehot = encoder.fit_transform(residence_data)\n",
    "print(onehot)\n"
   ]
  },
  {
   "cell_type": "markdown",
   "id": "8574f081",
   "metadata": {
    "papermill": {
     "duration": 0.010091,
     "end_time": "2024-09-29T16:30:39.034658",
     "exception": false,
     "start_time": "2024-09-29T16:30:39.024567",
     "status": "completed"
    },
    "tags": []
   },
   "source": [
    "**Min_Max**"
   ]
  },
  {
   "cell_type": "code",
   "execution_count": 23,
   "id": "8d399bd8",
   "metadata": {
    "execution": {
     "iopub.execute_input": "2024-09-29T16:30:39.056321Z",
     "iopub.status.busy": "2024-09-29T16:30:39.055916Z",
     "iopub.status.idle": "2024-09-29T16:30:39.066797Z",
     "shell.execute_reply": "2024-09-29T16:30:39.065372Z"
    },
    "papermill": {
     "duration": 0.024664,
     "end_time": "2024-09-29T16:30:39.069741",
     "exception": false,
     "start_time": "2024-09-29T16:30:39.045077",
     "status": "completed"
    },
    "tags": []
   },
   "outputs": [
    {
     "name": "stdout",
     "output_type": "stream",
     "text": [
      "0       0.816895\n",
      "1       0.743652\n",
      "2       0.975586\n",
      "3       0.597168\n",
      "4       0.963379\n",
      "          ...   \n",
      "5105    0.975586\n",
      "5106    0.987793\n",
      "5107    0.426270\n",
      "5108    0.621582\n",
      "5109    0.536133\n",
      "Name: age, Length: 5110, dtype: float64\n"
     ]
    }
   ],
   "source": [
    "dataframe = df.copy()\n",
    "\n",
    "dataframe[\"age\"] = (dataframe[\"age\"] - dataframe[\"age\"].min()) / (dataframe[\"age\"].max() - dataframe[\"age\"].min())\n",
    "\n",
    "print(dataframe[\"age\"] )"
   ]
  },
  {
   "cell_type": "code",
   "execution_count": 24,
   "id": "cec77f1e",
   "metadata": {
    "execution": {
     "iopub.execute_input": "2024-09-29T16:30:39.092110Z",
     "iopub.status.busy": "2024-09-29T16:30:39.091670Z",
     "iopub.status.idle": "2024-09-29T16:30:39.110671Z",
     "shell.execute_reply": "2024-09-29T16:30:39.109434Z"
    },
    "papermill": {
     "duration": 0.03285,
     "end_time": "2024-09-29T16:30:39.113112",
     "exception": false,
     "start_time": "2024-09-29T16:30:39.080262",
     "status": "completed"
    },
    "tags": []
   },
   "outputs": [
    {
     "data": {
      "text/html": [
       "<div>\n",
       "<style scoped>\n",
       "    .dataframe tbody tr th:only-of-type {\n",
       "        vertical-align: middle;\n",
       "    }\n",
       "\n",
       "    .dataframe tbody tr th {\n",
       "        vertical-align: top;\n",
       "    }\n",
       "\n",
       "    .dataframe thead th {\n",
       "        text-align: right;\n",
       "    }\n",
       "</style>\n",
       "<table border=\"1\" class=\"dataframe\">\n",
       "  <thead>\n",
       "    <tr style=\"text-align: right;\">\n",
       "      <th></th>\n",
       "      <th>id</th>\n",
       "      <th>gender</th>\n",
       "      <th>age</th>\n",
       "      <th>hypertension</th>\n",
       "      <th>heart_disease</th>\n",
       "      <th>ever_married</th>\n",
       "      <th>work_type</th>\n",
       "      <th>Residence_type</th>\n",
       "      <th>avg_glucose_level</th>\n",
       "      <th>bmi</th>\n",
       "      <th>smoking_status</th>\n",
       "      <th>stroke</th>\n",
       "    </tr>\n",
       "  </thead>\n",
       "  <tbody>\n",
       "    <tr>\n",
       "      <th>0</th>\n",
       "      <td>9046</td>\n",
       "      <td>Male</td>\n",
       "      <td>0.816895</td>\n",
       "      <td>0</td>\n",
       "      <td>1</td>\n",
       "      <td>Yes</td>\n",
       "      <td>Private</td>\n",
       "      <td>Urban</td>\n",
       "      <td>228.69</td>\n",
       "      <td>36.6</td>\n",
       "      <td>formerly smoked</td>\n",
       "      <td>1</td>\n",
       "    </tr>\n",
       "    <tr>\n",
       "      <th>1</th>\n",
       "      <td>51676</td>\n",
       "      <td>Female</td>\n",
       "      <td>0.743652</td>\n",
       "      <td>0</td>\n",
       "      <td>0</td>\n",
       "      <td>Yes</td>\n",
       "      <td>Self-employed</td>\n",
       "      <td>Rural</td>\n",
       "      <td>202.21</td>\n",
       "      <td>NaN</td>\n",
       "      <td>never smoked</td>\n",
       "      <td>1</td>\n",
       "    </tr>\n",
       "    <tr>\n",
       "      <th>2</th>\n",
       "      <td>31112</td>\n",
       "      <td>Male</td>\n",
       "      <td>0.975586</td>\n",
       "      <td>0</td>\n",
       "      <td>1</td>\n",
       "      <td>Yes</td>\n",
       "      <td>Private</td>\n",
       "      <td>Rural</td>\n",
       "      <td>105.92</td>\n",
       "      <td>32.5</td>\n",
       "      <td>never smoked</td>\n",
       "      <td>1</td>\n",
       "    </tr>\n",
       "    <tr>\n",
       "      <th>3</th>\n",
       "      <td>60182</td>\n",
       "      <td>Female</td>\n",
       "      <td>0.597168</td>\n",
       "      <td>0</td>\n",
       "      <td>0</td>\n",
       "      <td>Yes</td>\n",
       "      <td>Private</td>\n",
       "      <td>Urban</td>\n",
       "      <td>171.23</td>\n",
       "      <td>34.4</td>\n",
       "      <td>smokes</td>\n",
       "      <td>1</td>\n",
       "    </tr>\n",
       "    <tr>\n",
       "      <th>4</th>\n",
       "      <td>1665</td>\n",
       "      <td>Female</td>\n",
       "      <td>0.963379</td>\n",
       "      <td>1</td>\n",
       "      <td>0</td>\n",
       "      <td>Yes</td>\n",
       "      <td>Self-employed</td>\n",
       "      <td>Rural</td>\n",
       "      <td>174.12</td>\n",
       "      <td>24.0</td>\n",
       "      <td>never smoked</td>\n",
       "      <td>1</td>\n",
       "    </tr>\n",
       "  </tbody>\n",
       "</table>\n",
       "</div>"
      ],
      "text/plain": [
       "      id  gender       age  hypertension  heart_disease ever_married  \\\n",
       "0   9046    Male  0.816895             0              1          Yes   \n",
       "1  51676  Female  0.743652             0              0          Yes   \n",
       "2  31112    Male  0.975586             0              1          Yes   \n",
       "3  60182  Female  0.597168             0              0          Yes   \n",
       "4   1665  Female  0.963379             1              0          Yes   \n",
       "\n",
       "       work_type Residence_type  avg_glucose_level   bmi   smoking_status  \\\n",
       "0        Private          Urban             228.69  36.6  formerly smoked   \n",
       "1  Self-employed          Rural             202.21   NaN     never smoked   \n",
       "2        Private          Rural             105.92  32.5     never smoked   \n",
       "3        Private          Urban             171.23  34.4           smokes   \n",
       "4  Self-employed          Rural             174.12  24.0     never smoked   \n",
       "\n",
       "   stroke  \n",
       "0       1  \n",
       "1       1  \n",
       "2       1  \n",
       "3       1  \n",
       "4       1  "
      ]
     },
     "execution_count": 24,
     "metadata": {},
     "output_type": "execute_result"
    }
   ],
   "source": [
    "dataframe.head()"
   ]
  }
 ],
 "metadata": {
  "kaggle": {
   "accelerator": "none",
   "dataSources": [
    {
     "datasetId": 1120859,
     "sourceId": 1882037,
     "sourceType": "datasetVersion"
    }
   ],
   "dockerImageVersionId": 30775,
   "isGpuEnabled": false,
   "isInternetEnabled": true,
   "language": "python",
   "sourceType": "notebook"
  },
  "kernelspec": {
   "display_name": "Python 3",
   "language": "python",
   "name": "python3"
  },
  "language_info": {
   "codemirror_mode": {
    "name": "ipython",
    "version": 3
   },
   "file_extension": ".py",
   "mimetype": "text/x-python",
   "name": "python",
   "nbconvert_exporter": "python",
   "pygments_lexer": "ipython3",
   "version": "3.10.14"
  },
  "papermill": {
   "default_parameters": {},
   "duration": 7.06896,
   "end_time": "2024-09-29T16:30:39.745633",
   "environment_variables": {},
   "exception": null,
   "input_path": "__notebook__.ipynb",
   "output_path": "__notebook__.ipynb",
   "parameters": {},
   "start_time": "2024-09-29T16:30:32.676673",
   "version": "2.6.0"
  }
 },
 "nbformat": 4,
 "nbformat_minor": 5
}
