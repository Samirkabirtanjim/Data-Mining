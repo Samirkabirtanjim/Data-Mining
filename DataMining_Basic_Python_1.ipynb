{
  "nbformat": 4,
  "nbformat_minor": 0,
  "metadata": {
    "colab": {
      "provenance": []
    },
    "kernelspec": {
      "name": "python3",
      "display_name": "Python 3"
    },
    "language_info": {
      "name": "python"
    }
  },
  "cells": [
    {
      "cell_type": "markdown",
      "source": [
        "Write a Python program to find the sum of odd and even numbers from a set of numbers"
      ],
      "metadata": {
        "id": "Zuc0fa8o6anx"
      }
    },
    {
      "cell_type": "code",
      "source": [
        "totaleven = 0\n",
        "totalodd = 0\n",
        "\n",
        "input = list(map(int, input(\"Enter a list of numbers separated by spaces: \").split()))\n",
        "\n",
        "for number in input:\n",
        "    if number % 2 == 0:\n",
        "        totaleven += number\n",
        "    else:\n",
        "        totalodd += number\n",
        "\n",
        "print(\"The summ of Even number: \",totaleven)\n",
        "print(\"The summ of Odd number: \",totalodd)"
      ],
      "metadata": {
        "colab": {
          "base_uri": "https://localhost:8080/"
        },
        "id": "azzmgFfN6dQJ",
        "outputId": "e1be60c6-17d8-4493-cd86-dd5ed1dda8d7"
      },
      "execution_count": 2,
      "outputs": [
        {
          "output_type": "stream",
          "name": "stdout",
          "text": [
            "Enter a list of numbers separated by spaces: 1 2 3 56 12\n",
            "The summ of Even number:  70\n",
            "The summ of Odd number:  4\n"
          ]
        }
      ]
    },
    {
      "cell_type": "markdown",
      "source": [
        "Write a Python program to Check Triangle is Valid or Not"
      ],
      "metadata": {
        "id": "VrJyjOz-6YNQ"
      }
    },
    {
      "cell_type": "code",
      "execution_count": 1,
      "metadata": {
        "colab": {
          "base_uri": "https://localhost:8080/"
        },
        "id": "8adPgF9g6Dv8",
        "outputId": "9f6dc456-8925-4e65-b18a-baf618bf32e8"
      },
      "outputs": [
        {
          "output_type": "stream",
          "name": "stdout",
          "text": [
            "Enter the first side length: 2\n",
            "Enter the second side length: 2\n",
            "Enter the third side length: 1\n",
            "The triangle is valid.\n"
          ]
        }
      ],
      "source": [
        "def is_triangle_check(a, b, c):\n",
        "    if a + b > c and a + c > b and b + c > a:\n",
        "        return True\n",
        "    else:\n",
        "        return False\n",
        "\n",
        "a = float(input(\"Enter the first side length: \"))\n",
        "b = float(input(\"Enter the second side length: \"))\n",
        "c = float(input(\"Enter the third side length: \"))\n",
        "\n",
        "if is_triangle_check(a, b, c):\n",
        "    print(\"The triangle is valid.\")\n",
        "else:\n",
        "    print(\"The triangle is not valid.\")\n"
      ]
    }
  ]
}
