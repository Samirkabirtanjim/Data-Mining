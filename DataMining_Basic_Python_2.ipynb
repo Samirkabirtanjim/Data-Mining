{
  "nbformat": 4,
  "nbformat_minor": 0,
  "metadata": {
    "colab": {
      "provenance": []
    },
    "kernelspec": {
      "name": "python3",
      "display_name": "Python 3"
    },
    "language_info": {
      "name": "python"
    }
  },
  "cells": [
    {
      "cell_type": "markdown",
      "source": [
        "Write a Python program to create two empty classes, Student and Marks.\n",
        "\n",
        " Now create some instances and check whether they are instances of the said classes or not. Also, check whether the said classes are subclasses of the built-in object class or not."
      ],
      "metadata": {
        "id": "mX3LCIlt9B9j"
      }
    },
    {
      "cell_type": "code",
      "execution_count": 1,
      "metadata": {
        "colab": {
          "base_uri": "https://localhost:8080/"
        },
        "id": "Pg2jXSN-82au",
        "outputId": "afa6fdaa-8cf8-4a83-bb88-b1abf246e227"
      },
      "outputs": [
        {
          "output_type": "stream",
          "name": "stdout",
          "text": [
            "Is student_instance an instance of Student? True\n",
            "Is marks_instance an instance of Marks? True\n",
            "Is Student a subclass of object? True\n",
            "Is Marks a subclass of object? True\n"
          ]
        }
      ],
      "source": [
        "class Student:\n",
        "    pass\n",
        "\n",
        "class Marks:\n",
        "    pass\n",
        "\n",
        "student_instance = Student()\n",
        "marks_instance = Marks()\n",
        "\n",
        "print(\"Is student_instance an instance of Student?\", isinstance(student_instance, Student))\n",
        "print(\"Is marks_instance an instance of Marks?\", isinstance(marks_instance, Marks))\n",
        "\n",
        "print(\"Is Student a subclass of object?\", issubclass(Student, object))\n",
        "print(\"Is Marks a subclass of object?\", issubclass(Marks, object))"
      ]
    },
    {
      "cell_type": "markdown",
      "source": [
        "Write a Python class named Student with two attributes studentName, marks. Modify the attribute values of the said class and print the original and modified values of the said attributes."
      ],
      "metadata": {
        "id": "MxS4aTfBIPXY"
      }
    },
    {
      "cell_type": "code",
      "source": [
        "class Student:\n",
        "    pass\n",
        "\n",
        "student = Student()\n",
        "\n",
        "student.studentName = \"Samir\"\n",
        "student.marks = 85\n",
        "\n",
        "print(\"Original name:\", student.studentName)\n",
        "print(\"Original marks:\", student.marks)\n",
        "\n",
        "student.studentName = \"Tanjim\"\n",
        "student.marks = 95\n",
        "\n",
        "print(\"Modified name:\", student.studentName)\n",
        "print(\"Modified marks:\", student.marks)"
      ],
      "metadata": {
        "colab": {
          "base_uri": "https://localhost:8080/"
        },
        "id": "UD616rtdIgWM",
        "outputId": "783f5e96-e3db-46dc-d13b-482500fe9ead"
      },
      "execution_count": 5,
      "outputs": [
        {
          "output_type": "stream",
          "name": "stdout",
          "text": [
            "Original name: Samir\n",
            "Original marks: 85\n",
            "Modified name: Tanjim\n",
            "Modified marks: 95\n"
          ]
        }
      ]
    },
    {
      "cell_type": "markdown",
      "source": [
        "Write a Python class named Student with two attributes studentId, studentName. Add a new attribute\n",
        "\n",
        "studentClass and display the entire attribute and their values of the said class. Now remove the student-\n",
        "Name attribute and display the entire attribute with values."
      ],
      "metadata": {
        "id": "-bqDcJC0NBtg"
      }
    },
    {
      "cell_type": "code",
      "source": [
        "class Student:\n",
        "    pass\n",
        "\n",
        "student = Student()\n",
        "\n",
        "student.studentId = 211902052\n",
        "student.studentName = \"SAMIR\"\n",
        "student.studentClass = \"X\"\n",
        "\n",
        "print(\"Student ID:\", student.studentId)\n",
        "print(\"Student Name:\", student.studentName)\n",
        "print(\"Student Class:\", student.studentClass)\n",
        "\n",
        "del student.studentName\n",
        "\n",
        "print(\"\\nAfter removing studentName:\")\n",
        "print(\"Student ID:\", student.studentId)\n",
        "\n",
        "# print(\"Student Name:\", student.studentName)\n",
        "\n",
        "print(\"Student Class:\", student.studentClass)\n"
      ],
      "metadata": {
        "colab": {
          "base_uri": "https://localhost:8080/"
        },
        "id": "L5YXk7PGNCHO",
        "outputId": "5df545ab-fd70-4bc6-af7d-766346a4ecf4"
      },
      "execution_count": 8,
      "outputs": [
        {
          "output_type": "stream",
          "name": "stdout",
          "text": [
            "Student ID: 211902052\n",
            "Student Name: SAMIR\n",
            "Student Class: X\n",
            "\n",
            "After removing studentName:\n",
            "Student ID: 211902052\n",
            "Student Class: X\n"
          ]
        }
      ]
    },
    {
      "cell_type": "markdown",
      "source": [
        "Write a Python class named Student with two attributes studentId, studentName. Add a new attribute studentClass. Create a function to display the entire attribute and their values in Student class."
      ],
      "metadata": {
        "id": "5vNKyNqTPJ2T"
      }
    },
    {
      "cell_type": "code",
      "source": [
        "class Student:\n",
        "    def display_attributes(self):\n",
        "        print(\"Student ID:\", self.studentId)\n",
        "        print(\"Student Name:\", self.studentName)\n",
        "        print(\"Student Class:\", self.studentClass)\n",
        "\n",
        "student = Student()\n",
        "\n",
        "student.studentId = 211902052\n",
        "student.studentName = \"Samir\"\n",
        "student.studentClass = \"X\"\n",
        "\n",
        "student.display_attributes()\n"
      ],
      "metadata": {
        "colab": {
          "base_uri": "https://localhost:8080/"
        },
        "id": "Axs5NZ4AOpyq",
        "outputId": "cab20744-6105-468f-aa42-dd886876aded"
      },
      "execution_count": 7,
      "outputs": [
        {
          "output_type": "stream",
          "name": "stdout",
          "text": [
            "Student ID: 211902052\n",
            "Student Name: Samir\n",
            "Student Class: X\n"
          ]
        }
      ]
    }
  ]
}